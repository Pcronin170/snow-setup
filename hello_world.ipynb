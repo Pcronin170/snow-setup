{
 "cells": [
  {
   "cell_type": "markdown",
   "id": "cd1347a8",
   "metadata": {},
   "source": [
    "# hello_world\n",
    "This script is the first attempt to connect snowflake and Jupyter notebook"
   ]
  },
  {
   "cell_type": "code",
   "execution_count": 1,
   "id": "41e81739",
   "metadata": {},
   "outputs": [
    {
     "name": "stdout",
     "output_type": "stream",
     "text": [
      "Defaulting to user installation because normal site-packages is not writeable\n",
      "Requirement already satisfied: jupyterlab in /Users/cronin/Library/Python/3.8/lib/python/site-packages (3.4.7)\n",
      "Requirement already satisfied: jinja2>=2.1 in /Users/cronin/Library/Python/3.8/lib/python/site-packages (from jupyterlab) (3.1.2)\n",
      "Requirement already satisfied: tomli in /Users/cronin/Library/Python/3.8/lib/python/site-packages (from jupyterlab) (2.0.1)\n",
      "Requirement already satisfied: jupyter-core in /Users/cronin/Library/Python/3.8/lib/python/site-packages (from jupyterlab) (4.11.1)\n",
      "Requirement already satisfied: jupyter-server~=1.16 in /Users/cronin/Library/Python/3.8/lib/python/site-packages (from jupyterlab) (1.18.1)\n",
      "Requirement already satisfied: tornado>=6.1.0 in /Users/cronin/Library/Python/3.8/lib/python/site-packages (from jupyterlab) (6.2)\n",
      "Requirement already satisfied: ipython in /Users/cronin/Library/Python/3.8/lib/python/site-packages (from jupyterlab) (8.5.0)\n",
      "Requirement already satisfied: packaging in /Users/cronin/Library/Python/3.8/lib/python/site-packages (from jupyterlab) (21.3)\n",
      "Requirement already satisfied: nbclassic in /Users/cronin/Library/Python/3.8/lib/python/site-packages (from jupyterlab) (0.4.3)\n",
      "Requirement already satisfied: notebook<7 in /Users/cronin/Library/Python/3.8/lib/python/site-packages (from jupyterlab) (6.4.12)\n",
      "Requirement already satisfied: jupyterlab-server~=2.10 in /Users/cronin/Library/Python/3.8/lib/python/site-packages (from jupyterlab) (2.15.1)\n",
      "Requirement already satisfied: MarkupSafe>=2.0 in /Users/cronin/Library/Python/3.8/lib/python/site-packages (from jinja2>=2.1->jupyterlab) (2.1.1)\n",
      "Requirement already satisfied: jupyter-client>=6.1.12 in /Users/cronin/Library/Python/3.8/lib/python/site-packages (from jupyter-server~=1.16->jupyterlab) (7.3.5)\n",
      "Requirement already satisfied: nbformat>=5.2.0 in /Users/cronin/Library/Python/3.8/lib/python/site-packages (from jupyter-server~=1.16->jupyterlab) (5.4.0)\n",
      "Requirement already satisfied: prometheus-client in /Users/cronin/Library/Python/3.8/lib/python/site-packages (from jupyter-server~=1.16->jupyterlab) (0.14.1)\n",
      "Requirement already satisfied: traitlets>=5.1 in /Users/cronin/Library/Python/3.8/lib/python/site-packages (from jupyter-server~=1.16->jupyterlab) (5.4.0)\n",
      "Requirement already satisfied: nbconvert>=6.4.4 in /Users/cronin/Library/Python/3.8/lib/python/site-packages (from jupyter-server~=1.16->jupyterlab) (7.0.0)\n",
      "Requirement already satisfied: argon2-cffi in /Users/cronin/Library/Python/3.8/lib/python/site-packages (from jupyter-server~=1.16->jupyterlab) (21.3.0)\n",
      "Requirement already satisfied: Send2Trash in /Users/cronin/Library/Python/3.8/lib/python/site-packages (from jupyter-server~=1.16->jupyterlab) (1.8.0)\n",
      "Requirement already satisfied: pyzmq>=17 in /Users/cronin/Library/Python/3.8/lib/python/site-packages (from jupyter-server~=1.16->jupyterlab) (23.2.1)\n",
      "Requirement already satisfied: terminado>=0.8.3 in /Users/cronin/Library/Python/3.8/lib/python/site-packages (from jupyter-server~=1.16->jupyterlab) (0.15.0)\n",
      "Requirement already satisfied: websocket-client in /Users/cronin/Library/Python/3.8/lib/python/site-packages (from jupyter-server~=1.16->jupyterlab) (1.4.1)\n",
      "Requirement already satisfied: anyio<4,>=3.1.0 in /Users/cronin/Library/Python/3.8/lib/python/site-packages (from jupyter-server~=1.16->jupyterlab) (3.6.1)\n",
      "Requirement already satisfied: jsonschema>=3.0.1 in /Users/cronin/Library/Python/3.8/lib/python/site-packages (from jupyterlab-server~=2.10->jupyterlab) (4.16.0)\n",
      "Requirement already satisfied: babel in /Users/cronin/Library/Python/3.8/lib/python/site-packages (from jupyterlab-server~=2.10->jupyterlab) (2.10.3)\n",
      "Requirement already satisfied: requests in /Users/cronin/Library/Python/3.8/lib/python/site-packages (from jupyterlab-server~=2.10->jupyterlab) (2.28.1)\n",
      "Requirement already satisfied: json5 in /Users/cronin/Library/Python/3.8/lib/python/site-packages (from jupyterlab-server~=2.10->jupyterlab) (0.9.10)\n",
      "Requirement already satisfied: importlib-metadata>=3.6 in /Users/cronin/Library/Python/3.8/lib/python/site-packages (from jupyterlab-server~=2.10->jupyterlab) (4.12.0)\n",
      "Requirement already satisfied: ipython-genutils in /Users/cronin/Library/Python/3.8/lib/python/site-packages (from notebook<7->jupyterlab) (0.2.0)\n",
      "Requirement already satisfied: nest-asyncio>=1.5 in /Users/cronin/Library/Python/3.8/lib/python/site-packages (from notebook<7->jupyterlab) (1.5.5)\n",
      "Requirement already satisfied: ipykernel in /Users/cronin/Library/Python/3.8/lib/python/site-packages (from notebook<7->jupyterlab) (6.15.2)\n",
      "Requirement already satisfied: stack-data in /Users/cronin/Library/Python/3.8/lib/python/site-packages (from ipython->jupyterlab) (0.5.0)\n",
      "Requirement already satisfied: appnope in /Users/cronin/Library/Python/3.8/lib/python/site-packages (from ipython->jupyterlab) (0.1.3)\n",
      "Requirement already satisfied: backcall in /Users/cronin/Library/Python/3.8/lib/python/site-packages (from ipython->jupyterlab) (0.2.0)\n",
      "Requirement already satisfied: jedi>=0.16 in /Users/cronin/Library/Python/3.8/lib/python/site-packages (from ipython->jupyterlab) (0.18.1)\n",
      "Requirement already satisfied: pickleshare in /Users/cronin/Library/Python/3.8/lib/python/site-packages (from ipython->jupyterlab) (0.7.5)\n",
      "Requirement already satisfied: matplotlib-inline in /Users/cronin/Library/Python/3.8/lib/python/site-packages (from ipython->jupyterlab) (0.1.6)\n",
      "Requirement already satisfied: pexpect>4.3 in /Users/cronin/Library/Python/3.8/lib/python/site-packages (from ipython->jupyterlab) (4.8.0)\n",
      "Requirement already satisfied: pygments>=2.4.0 in /Users/cronin/Library/Python/3.8/lib/python/site-packages (from ipython->jupyterlab) (2.13.0)\n",
      "Requirement already satisfied: decorator in /Users/cronin/Library/Python/3.8/lib/python/site-packages (from ipython->jupyterlab) (5.1.1)\n",
      "Requirement already satisfied: prompt-toolkit<3.1.0,>3.0.1 in /Users/cronin/Library/Python/3.8/lib/python/site-packages (from ipython->jupyterlab) (3.0.31)\n",
      "Requirement already satisfied: notebook-shim>=0.1.0 in /Users/cronin/Library/Python/3.8/lib/python/site-packages (from nbclassic->jupyterlab) (0.1.0)\n",
      "Requirement already satisfied: pyparsing!=3.0.5,>=2.0.2 in /Users/cronin/Library/Python/3.8/lib/python/site-packages (from packaging->jupyterlab) (3.0.9)\n",
      "Requirement already satisfied: idna>=2.8 in /Users/cronin/Library/Python/3.8/lib/python/site-packages (from anyio<4,>=3.1.0->jupyter-server~=1.16->jupyterlab) (3.4)\n",
      "Requirement already satisfied: sniffio>=1.1 in /Users/cronin/Library/Python/3.8/lib/python/site-packages (from anyio<4,>=3.1.0->jupyter-server~=1.16->jupyterlab) (1.3.0)\n",
      "Requirement already satisfied: zipp>=0.5 in /Users/cronin/Library/Python/3.8/lib/python/site-packages (from importlib-metadata>=3.6->jupyterlab-server~=2.10->jupyterlab) (3.8.1)\n",
      "Requirement already satisfied: parso<0.9.0,>=0.8.0 in /Users/cronin/Library/Python/3.8/lib/python/site-packages (from jedi>=0.16->ipython->jupyterlab) (0.8.3)\n",
      "Requirement already satisfied: importlib-resources>=1.4.0 in /Users/cronin/Library/Python/3.8/lib/python/site-packages (from jsonschema>=3.0.1->jupyterlab-server~=2.10->jupyterlab) (5.9.0)\n",
      "Requirement already satisfied: pkgutil-resolve-name>=1.3.10 in /Users/cronin/Library/Python/3.8/lib/python/site-packages (from jsonschema>=3.0.1->jupyterlab-server~=2.10->jupyterlab) (1.3.10)\n",
      "Requirement already satisfied: pyrsistent!=0.17.0,!=0.17.1,!=0.17.2,>=0.14.0 in /Users/cronin/Library/Python/3.8/lib/python/site-packages (from jsonschema>=3.0.1->jupyterlab-server~=2.10->jupyterlab) (0.18.1)\n",
      "Requirement already satisfied: attrs>=17.4.0 in /Users/cronin/Library/Python/3.8/lib/python/site-packages (from jsonschema>=3.0.1->jupyterlab-server~=2.10->jupyterlab) (22.1.0)\n",
      "Requirement already satisfied: entrypoints in /Users/cronin/Library/Python/3.8/lib/python/site-packages (from jupyter-client>=6.1.12->jupyter-server~=1.16->jupyterlab) (0.4)\n",
      "Requirement already satisfied: python-dateutil>=2.8.2 in /Users/cronin/Library/Python/3.8/lib/python/site-packages (from jupyter-client>=6.1.12->jupyter-server~=1.16->jupyterlab) (2.8.2)\n",
      "Requirement already satisfied: nbclient>=0.5.0 in /Users/cronin/Library/Python/3.8/lib/python/site-packages (from nbconvert>=6.4.4->jupyter-server~=1.16->jupyterlab) (0.6.8)\n"
     ]
    },
    {
     "name": "stdout",
     "output_type": "stream",
     "text": [
      "Requirement already satisfied: mistune<3,>=2.0.3 in /Users/cronin/Library/Python/3.8/lib/python/site-packages (from nbconvert>=6.4.4->jupyter-server~=1.16->jupyterlab) (2.0.4)\n",
      "Requirement already satisfied: jupyterlab-pygments in /Users/cronin/Library/Python/3.8/lib/python/site-packages (from nbconvert>=6.4.4->jupyter-server~=1.16->jupyterlab) (0.2.2)\n",
      "Requirement already satisfied: beautifulsoup4 in /Users/cronin/Library/Python/3.8/lib/python/site-packages (from nbconvert>=6.4.4->jupyter-server~=1.16->jupyterlab) (4.11.1)\n",
      "Requirement already satisfied: lxml in /Users/cronin/Library/Python/3.8/lib/python/site-packages (from nbconvert>=6.4.4->jupyter-server~=1.16->jupyterlab) (4.9.1)\n",
      "Requirement already satisfied: bleach in /Users/cronin/Library/Python/3.8/lib/python/site-packages (from nbconvert>=6.4.4->jupyter-server~=1.16->jupyterlab) (5.0.1)\n",
      "Requirement already satisfied: defusedxml in /Users/cronin/Library/Python/3.8/lib/python/site-packages (from nbconvert>=6.4.4->jupyter-server~=1.16->jupyterlab) (0.7.1)\n",
      "Requirement already satisfied: pandocfilters>=1.4.1 in /Users/cronin/Library/Python/3.8/lib/python/site-packages (from nbconvert>=6.4.4->jupyter-server~=1.16->jupyterlab) (1.5.0)\n",
      "Requirement already satisfied: tinycss2 in /Users/cronin/Library/Python/3.8/lib/python/site-packages (from nbconvert>=6.4.4->jupyter-server~=1.16->jupyterlab) (1.1.1)\n",
      "Requirement already satisfied: fastjsonschema in /Users/cronin/Library/Python/3.8/lib/python/site-packages (from nbformat>=5.2.0->jupyter-server~=1.16->jupyterlab) (2.16.1)\n",
      "Requirement already satisfied: ptyprocess>=0.5 in /Users/cronin/Library/Python/3.8/lib/python/site-packages (from pexpect>4.3->ipython->jupyterlab) (0.7.0)\n",
      "Requirement already satisfied: wcwidth in /Users/cronin/Library/Python/3.8/lib/python/site-packages (from prompt-toolkit<3.1.0,>3.0.1->ipython->jupyterlab) (0.2.5)\n",
      "Requirement already satisfied: argon2-cffi-bindings in /Users/cronin/Library/Python/3.8/lib/python/site-packages (from argon2-cffi->jupyter-server~=1.16->jupyterlab) (21.2.0)\n",
      "Requirement already satisfied: pytz>=2015.7 in /Users/cronin/Library/Python/3.8/lib/python/site-packages (from babel->jupyterlab-server~=2.10->jupyterlab) (2022.2.1)\n",
      "Requirement already satisfied: debugpy>=1.0 in /Users/cronin/Library/Python/3.8/lib/python/site-packages (from ipykernel->notebook<7->jupyterlab) (1.6.3)\n",
      "Requirement already satisfied: psutil in /Users/cronin/Library/Python/3.8/lib/python/site-packages (from ipykernel->notebook<7->jupyterlab) (5.9.2)\n",
      "Requirement already satisfied: certifi>=2017.4.17 in /Users/cronin/Library/Python/3.8/lib/python/site-packages (from requests->jupyterlab-server~=2.10->jupyterlab) (2022.9.14)\n",
      "Requirement already satisfied: charset-normalizer<3,>=2 in /Users/cronin/Library/Python/3.8/lib/python/site-packages (from requests->jupyterlab-server~=2.10->jupyterlab) (2.1.1)\n",
      "Requirement already satisfied: urllib3<1.27,>=1.21.1 in /Users/cronin/Library/Python/3.8/lib/python/site-packages (from requests->jupyterlab-server~=2.10->jupyterlab) (1.26.12)\n",
      "Requirement already satisfied: pure-eval in /Users/cronin/Library/Python/3.8/lib/python/site-packages (from stack-data->ipython->jupyterlab) (0.2.2)\n",
      "Requirement already satisfied: executing in /Users/cronin/Library/Python/3.8/lib/python/site-packages (from stack-data->ipython->jupyterlab) (1.0.0)\n",
      "Requirement already satisfied: asttokens in /Users/cronin/Library/Python/3.8/lib/python/site-packages (from stack-data->ipython->jupyterlab) (2.0.8)\n",
      "Requirement already satisfied: six>=1.5 in /Library/Developer/CommandLineTools/Library/Frameworks/Python3.framework/Versions/3.8/lib/python3.8/site-packages (from python-dateutil>=2.8.2->jupyter-client>=6.1.12->jupyter-server~=1.16->jupyterlab) (1.15.0)\n",
      "Requirement already satisfied: cffi>=1.0.1 in /Users/cronin/Library/Python/3.8/lib/python/site-packages (from argon2-cffi-bindings->argon2-cffi->jupyter-server~=1.16->jupyterlab) (1.15.1)\n",
      "Requirement already satisfied: soupsieve>1.2 in /Users/cronin/Library/Python/3.8/lib/python/site-packages (from beautifulsoup4->nbconvert>=6.4.4->jupyter-server~=1.16->jupyterlab) (2.3.2.post1)\n",
      "Requirement already satisfied: webencodings in /Users/cronin/Library/Python/3.8/lib/python/site-packages (from bleach->nbconvert>=6.4.4->jupyter-server~=1.16->jupyterlab) (0.5.1)\n",
      "Requirement already satisfied: pycparser in /Users/cronin/Library/Python/3.8/lib/python/site-packages (from cffi>=1.0.1->argon2-cffi-bindings->argon2-cffi->jupyter-server~=1.16->jupyterlab) (2.21)\n"
     ]
    }
   ],
   "source": [
    "!pip3 install jupyterlab"
   ]
  }
 ],
 "metadata": {
  "kernelspec": {
   "display_name": "Python 3 (ipykernel)",
   "language": "python",
   "name": "python3"
  },
  "language_info": {
   "codemirror_mode": {
    "name": "ipython",
    "version": 3
   },
   "file_extension": ".py",
   "mimetype": "text/x-python",
   "name": "python",
   "nbconvert_exporter": "python",
   "pygments_lexer": "ipython3",
   "version": "3.8.9"
  }
 },
 "nbformat": 4,
 "nbformat_minor": 5
}
